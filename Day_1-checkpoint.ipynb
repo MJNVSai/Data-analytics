{
 "cells": [
  {
   "cell_type": "markdown",
   "id": "907c0cf9",
   "metadata": {},
   "source": [
    "# Topics\n",
    "- python Basics\n",
    "- Numpy Introduction"
   ]
  },
  {
   "cell_type": "code",
   "execution_count": 2,
   "id": "e21e0657",
   "metadata": {},
   "outputs": [
    {
     "name": "stdout",
     "output_type": "stream",
     "text": [
      "enter how many numbers: 3\n",
      "enter a number: 123\n",
      "mid value:  2\n",
      "enter a number: 456\n",
      "mid value:  5\n",
      "enter a number: 789\n",
      "mid value:  8\n",
      "sum of mid values:  15\n"
     ]
    }
   ],
   "source": [
    "# Sum of all Mid-values in the given list of integers\n",
    "n = int(input(\"enter how many numbers: \"))\n",
    "res = []\n",
    "for i in range(n):\n",
    "    p = input(\"enter a number: \")\n",
    "    l = len(p)\n",
    "    mid = l//2\n",
    "    ans = p[mid]\n",
    "    print(\"mid value: \",ans)\n",
    "    res.append(int(ans))\n",
    "print(\"sum of mid values: \",sum(res))"
   ]
  },
  {
   "cell_type": "markdown",
   "id": "edf527cb",
   "metadata": {},
   "source": [
    "### Data Analysis:\n",
    "- It is a meaningful information said to be Data.\n",
    "- Types of data in realtime/devices\n",
    "    - .txt,.doc,.ipnyb,.xls,.ppt,.mp3,.mp4  etc;\n",
    "- Types of Data in realtime\n",
    "    1. Quantitative\n",
    "        - represnets the size/volume of data.\n",
    "        - Discrete and Continous\n",
    "            - This type of data is Fixed/Constant\n",
    "                - Ex: numbers on Dies: varies from 1 to 6\n",
    "                    - Distance,Color,Nationality,Size etc...\n",
    "            - Continous Data means the value/data is Continoues\n",
    "                - Height,weight & hours\n",
    "    2. Qualitative\n",
    "        - Data is observed and placed in terms of categories\n",
    "            - Ex: Data sunmission in Feedback form\n",
    "- Data in Stastics:\n",
    "    - Nominal,Ordinak,Interval and Ratio\n",
    "        - Nominal means data is categorized on the basics of names\n",
    "            - Ex: nationality,Color,Gender\n",
    "        - Ordinal means data is based upon the order of values\n",
    "            - Ex: feedback Form\n",
    "        - Interval means a range of data values.\n",
    "            - Time interval in clock : 2:15 is between 2&3\n",
    "        - Ratio means data is meaningfully added,subracted,multiplicated and divided (ratios).."
   ]
  },
  {
   "cell_type": "markdown",
   "id": "8861b365",
   "metadata": {},
   "source": [
    "### Importing modules\n",
    "- Numpy\n",
    "- Pandas\n",
    "- Matplotlib and Seaborn"
   ]
  },
  {
   "cell_type": "code",
   "execution_count": 2,
   "id": "535e89b1",
   "metadata": {},
   "outputs": [
    {
     "data": {
      "text/plain": [
       "['ALLOW_THREADS',\n",
       " 'AxisError',\n",
       " 'BUFSIZE',\n",
       " 'Bytes0',\n",
       " 'CLIP',\n",
       " 'ComplexWarning',\n",
       " 'DataSource',\n",
       " 'Datetime64',\n",
       " 'ERR_CALL',\n",
       " 'ERR_DEFAULT',\n",
       " 'ERR_IGNORE',\n",
       " 'ERR_LOG',\n",
       " 'ERR_PRINT',\n",
       " 'ERR_RAISE',\n",
       " 'ERR_WARN',\n",
       " 'FLOATING_POINT_SUPPORT',\n",
       " 'FPE_DIVIDEBYZERO',\n",
       " 'FPE_INVALID',\n",
       " 'FPE_OVERFLOW',\n",
       " 'FPE_UNDERFLOW',\n",
       " 'False_',\n",
       " 'Inf',\n",
       " 'Infinity',\n",
       " 'MAXDIMS',\n",
       " 'MAY_SHARE_BOUNDS',\n",
       " 'MAY_SHARE_EXACT',\n",
       " 'MachAr',\n",
       " 'ModuleDeprecationWarning',\n",
       " 'NAN',\n",
       " 'NINF',\n",
       " 'NZERO',\n",
       " 'NaN',\n",
       " 'PINF',\n",
       " 'PZERO',\n",
       " 'RAISE',\n",
       " 'RankWarning',\n",
       " 'SHIFT_DIVIDEBYZERO',\n",
       " 'SHIFT_INVALID',\n",
       " 'SHIFT_OVERFLOW',\n",
       " 'SHIFT_UNDERFLOW',\n",
       " 'ScalarType',\n",
       " 'Str0',\n",
       " 'Tester',\n",
       " 'TooHardError',\n",
       " 'True_',\n",
       " 'UFUNC_BUFSIZE_DEFAULT',\n",
       " 'UFUNC_PYVALS_NAME',\n",
       " 'Uint64',\n",
       " 'VisibleDeprecationWarning',\n",
       " 'WRAP',\n",
       " '_NoValue',\n",
       " '_UFUNC_API',\n",
       " '__NUMPY_SETUP__',\n",
       " '__all__',\n",
       " '__builtins__',\n",
       " '__cached__',\n",
       " '__config__',\n",
       " '__deprecated_attrs__',\n",
       " '__dir__',\n",
       " '__doc__',\n",
       " '__expired_functions__',\n",
       " '__file__',\n",
       " '__getattr__',\n",
       " '__git_revision__',\n",
       " '__loader__',\n",
       " '__mkl_version__',\n",
       " '__name__',\n",
       " '__package__',\n",
       " '__path__',\n",
       " '__spec__',\n",
       " '__version__',\n",
       " '_add_newdoc_ufunc',\n",
       " '_distributor_init',\n",
       " '_financial_names',\n",
       " '_globals',\n",
       " '_mat',\n",
       " '_pytesttester',\n",
       " 'abs',\n",
       " 'absolute',\n",
       " 'add',\n",
       " 'add_docstring',\n",
       " 'add_newdoc',\n",
       " 'add_newdoc_ufunc',\n",
       " 'alen',\n",
       " 'all',\n",
       " 'allclose',\n",
       " 'alltrue',\n",
       " 'amax',\n",
       " 'amin',\n",
       " 'angle',\n",
       " 'any',\n",
       " 'append',\n",
       " 'apply_along_axis',\n",
       " 'apply_over_axes',\n",
       " 'arange',\n",
       " 'arccos',\n",
       " 'arccosh',\n",
       " 'arcsin',\n",
       " 'arcsinh',\n",
       " 'arctan',\n",
       " 'arctan2',\n",
       " 'arctanh',\n",
       " 'argmax',\n",
       " 'argmin',\n",
       " 'argpartition',\n",
       " 'argsort',\n",
       " 'argwhere',\n",
       " 'around',\n",
       " 'array',\n",
       " 'array2string',\n",
       " 'array_equal',\n",
       " 'array_equiv',\n",
       " 'array_repr',\n",
       " 'array_split',\n",
       " 'array_str',\n",
       " 'asanyarray',\n",
       " 'asarray',\n",
       " 'asarray_chkfinite',\n",
       " 'ascontiguousarray',\n",
       " 'asfarray',\n",
       " 'asfortranarray',\n",
       " 'asmatrix',\n",
       " 'asscalar',\n",
       " 'atleast_1d',\n",
       " 'atleast_2d',\n",
       " 'atleast_3d',\n",
       " 'average',\n",
       " 'bartlett',\n",
       " 'base_repr',\n",
       " 'binary_repr',\n",
       " 'bincount',\n",
       " 'bitwise_and',\n",
       " 'bitwise_not',\n",
       " 'bitwise_or',\n",
       " 'bitwise_xor',\n",
       " 'blackman',\n",
       " 'block',\n",
       " 'bmat',\n",
       " 'bool8',\n",
       " 'bool_',\n",
       " 'broadcast',\n",
       " 'broadcast_arrays',\n",
       " 'broadcast_shapes',\n",
       " 'broadcast_to',\n",
       " 'busday_count',\n",
       " 'busday_offset',\n",
       " 'busdaycalendar',\n",
       " 'byte',\n",
       " 'byte_bounds',\n",
       " 'bytes0',\n",
       " 'bytes_',\n",
       " 'c_',\n",
       " 'can_cast',\n",
       " 'cast',\n",
       " 'cbrt',\n",
       " 'cdouble',\n",
       " 'ceil',\n",
       " 'cfloat',\n",
       " 'char',\n",
       " 'character',\n",
       " 'chararray',\n",
       " 'choose',\n",
       " 'clip',\n",
       " 'clongdouble',\n",
       " 'clongfloat',\n",
       " 'column_stack',\n",
       " 'common_type',\n",
       " 'compare_chararrays',\n",
       " 'compat',\n",
       " 'complex128',\n",
       " 'complex64',\n",
       " 'complex_',\n",
       " 'complexfloating',\n",
       " 'compress',\n",
       " 'concatenate',\n",
       " 'conj',\n",
       " 'conjugate',\n",
       " 'convolve',\n",
       " 'copy',\n",
       " 'copysign',\n",
       " 'copyto',\n",
       " 'core',\n",
       " 'corrcoef',\n",
       " 'correlate',\n",
       " 'cos',\n",
       " 'cosh',\n",
       " 'count_nonzero',\n",
       " 'cov',\n",
       " 'cross',\n",
       " 'csingle',\n",
       " 'ctypeslib',\n",
       " 'cumprod',\n",
       " 'cumproduct',\n",
       " 'cumsum',\n",
       " 'datetime64',\n",
       " 'datetime_as_string',\n",
       " 'datetime_data',\n",
       " 'deg2rad',\n",
       " 'degrees',\n",
       " 'delete',\n",
       " 'deprecate',\n",
       " 'deprecate_with_doc',\n",
       " 'diag',\n",
       " 'diag_indices',\n",
       " 'diag_indices_from',\n",
       " 'diagflat',\n",
       " 'diagonal',\n",
       " 'diff',\n",
       " 'digitize',\n",
       " 'disp',\n",
       " 'divide',\n",
       " 'divmod',\n",
       " 'dot',\n",
       " 'double',\n",
       " 'dsplit',\n",
       " 'dstack',\n",
       " 'dtype',\n",
       " 'e',\n",
       " 'ediff1d',\n",
       " 'einsum',\n",
       " 'einsum_path',\n",
       " 'emath',\n",
       " 'empty',\n",
       " 'empty_like',\n",
       " 'equal',\n",
       " 'errstate',\n",
       " 'euler_gamma',\n",
       " 'exp',\n",
       " 'exp2',\n",
       " 'expand_dims',\n",
       " 'expm1',\n",
       " 'extract',\n",
       " 'eye',\n",
       " 'fabs',\n",
       " 'fastCopyAndTranspose',\n",
       " 'fft',\n",
       " 'fill_diagonal',\n",
       " 'find_common_type',\n",
       " 'finfo',\n",
       " 'fix',\n",
       " 'flatiter',\n",
       " 'flatnonzero',\n",
       " 'flexible',\n",
       " 'flip',\n",
       " 'fliplr',\n",
       " 'flipud',\n",
       " 'float16',\n",
       " 'float32',\n",
       " 'float64',\n",
       " 'float_',\n",
       " 'float_power',\n",
       " 'floating',\n",
       " 'floor',\n",
       " 'floor_divide',\n",
       " 'fmax',\n",
       " 'fmin',\n",
       " 'fmod',\n",
       " 'format_float_positional',\n",
       " 'format_float_scientific',\n",
       " 'format_parser',\n",
       " 'frexp',\n",
       " 'frombuffer',\n",
       " 'fromfile',\n",
       " 'fromfunction',\n",
       " 'fromiter',\n",
       " 'frompyfunc',\n",
       " 'fromregex',\n",
       " 'fromstring',\n",
       " 'full',\n",
       " 'full_like',\n",
       " 'gcd',\n",
       " 'generic',\n",
       " 'genfromtxt',\n",
       " 'geomspace',\n",
       " 'get_array_wrap',\n",
       " 'get_include',\n",
       " 'get_printoptions',\n",
       " 'getbufsize',\n",
       " 'geterr',\n",
       " 'geterrcall',\n",
       " 'geterrobj',\n",
       " 'gradient',\n",
       " 'greater',\n",
       " 'greater_equal',\n",
       " 'half',\n",
       " 'hamming',\n",
       " 'hanning',\n",
       " 'heaviside',\n",
       " 'histogram',\n",
       " 'histogram2d',\n",
       " 'histogram_bin_edges',\n",
       " 'histogramdd',\n",
       " 'hsplit',\n",
       " 'hstack',\n",
       " 'hypot',\n",
       " 'i0',\n",
       " 'identity',\n",
       " 'iinfo',\n",
       " 'imag',\n",
       " 'in1d',\n",
       " 'index_exp',\n",
       " 'indices',\n",
       " 'inexact',\n",
       " 'inf',\n",
       " 'info',\n",
       " 'infty',\n",
       " 'inner',\n",
       " 'insert',\n",
       " 'int0',\n",
       " 'int16',\n",
       " 'int32',\n",
       " 'int64',\n",
       " 'int8',\n",
       " 'int_',\n",
       " 'intc',\n",
       " 'integer',\n",
       " 'interp',\n",
       " 'intersect1d',\n",
       " 'intp',\n",
       " 'invert',\n",
       " 'is_busday',\n",
       " 'isclose',\n",
       " 'iscomplex',\n",
       " 'iscomplexobj',\n",
       " 'isfinite',\n",
       " 'isfortran',\n",
       " 'isin',\n",
       " 'isinf',\n",
       " 'isnan',\n",
       " 'isnat',\n",
       " 'isneginf',\n",
       " 'isposinf',\n",
       " 'isreal',\n",
       " 'isrealobj',\n",
       " 'isscalar',\n",
       " 'issctype',\n",
       " 'issubclass_',\n",
       " 'issubdtype',\n",
       " 'issubsctype',\n",
       " 'iterable',\n",
       " 'ix_',\n",
       " 'kaiser',\n",
       " 'kron',\n",
       " 'lcm',\n",
       " 'ldexp',\n",
       " 'left_shift',\n",
       " 'less',\n",
       " 'less_equal',\n",
       " 'lexsort',\n",
       " 'lib',\n",
       " 'linalg',\n",
       " 'linspace',\n",
       " 'little_endian',\n",
       " 'load',\n",
       " 'loads',\n",
       " 'loadtxt',\n",
       " 'log',\n",
       " 'log10',\n",
       " 'log1p',\n",
       " 'log2',\n",
       " 'logaddexp',\n",
       " 'logaddexp2',\n",
       " 'logical_and',\n",
       " 'logical_not',\n",
       " 'logical_or',\n",
       " 'logical_xor',\n",
       " 'logspace',\n",
       " 'longcomplex',\n",
       " 'longdouble',\n",
       " 'longfloat',\n",
       " 'longlong',\n",
       " 'lookfor',\n",
       " 'ma',\n",
       " 'mafromtxt',\n",
       " 'mask_indices',\n",
       " 'mat',\n",
       " 'math',\n",
       " 'matmul',\n",
       " 'matrix',\n",
       " 'matrixlib',\n",
       " 'max',\n",
       " 'maximum',\n",
       " 'maximum_sctype',\n",
       " 'may_share_memory',\n",
       " 'mean',\n",
       " 'median',\n",
       " 'memmap',\n",
       " 'meshgrid',\n",
       " 'mgrid',\n",
       " 'min',\n",
       " 'min_scalar_type',\n",
       " 'minimum',\n",
       " 'mintypecode',\n",
       " 'mkl',\n",
       " 'mod',\n",
       " 'modf',\n",
       " 'moveaxis',\n",
       " 'msort',\n",
       " 'multiply',\n",
       " 'nan',\n",
       " 'nan_to_num',\n",
       " 'nanargmax',\n",
       " 'nanargmin',\n",
       " 'nancumprod',\n",
       " 'nancumsum',\n",
       " 'nanmax',\n",
       " 'nanmean',\n",
       " 'nanmedian',\n",
       " 'nanmin',\n",
       " 'nanpercentile',\n",
       " 'nanprod',\n",
       " 'nanquantile',\n",
       " 'nanstd',\n",
       " 'nansum',\n",
       " 'nanvar',\n",
       " 'nbytes',\n",
       " 'ndarray',\n",
       " 'ndenumerate',\n",
       " 'ndfromtxt',\n",
       " 'ndim',\n",
       " 'ndindex',\n",
       " 'nditer',\n",
       " 'negative',\n",
       " 'nested_iters',\n",
       " 'newaxis',\n",
       " 'nextafter',\n",
       " 'nonzero',\n",
       " 'not_equal',\n",
       " 'numarray',\n",
       " 'number',\n",
       " 'obj2sctype',\n",
       " 'object0',\n",
       " 'object_',\n",
       " 'ogrid',\n",
       " 'oldnumeric',\n",
       " 'ones',\n",
       " 'ones_like',\n",
       " 'os',\n",
       " 'outer',\n",
       " 'packbits',\n",
       " 'pad',\n",
       " 'partition',\n",
       " 'percentile',\n",
       " 'pi',\n",
       " 'piecewise',\n",
       " 'place',\n",
       " 'poly',\n",
       " 'poly1d',\n",
       " 'polyadd',\n",
       " 'polyder',\n",
       " 'polydiv',\n",
       " 'polyfit',\n",
       " 'polyint',\n",
       " 'polymul',\n",
       " 'polynomial',\n",
       " 'polysub',\n",
       " 'polyval',\n",
       " 'positive',\n",
       " 'power',\n",
       " 'printoptions',\n",
       " 'prod',\n",
       " 'product',\n",
       " 'promote_types',\n",
       " 'ptp',\n",
       " 'put',\n",
       " 'put_along_axis',\n",
       " 'putmask',\n",
       " 'quantile',\n",
       " 'r_',\n",
       " 'rad2deg',\n",
       " 'radians',\n",
       " 'random',\n",
       " 'ravel',\n",
       " 'ravel_multi_index',\n",
       " 'real',\n",
       " 'real_if_close',\n",
       " 'rec',\n",
       " 'recarray',\n",
       " 'recfromcsv',\n",
       " 'recfromtxt',\n",
       " 'reciprocal',\n",
       " 'record',\n",
       " 'remainder',\n",
       " 'repeat',\n",
       " 'require',\n",
       " 'reshape',\n",
       " 'resize',\n",
       " 'result_type',\n",
       " 'right_shift',\n",
       " 'rint',\n",
       " 'roll',\n",
       " 'rollaxis',\n",
       " 'roots',\n",
       " 'rot90',\n",
       " 'round',\n",
       " 'round_',\n",
       " 'row_stack',\n",
       " 's_',\n",
       " 'safe_eval',\n",
       " 'save',\n",
       " 'savetxt',\n",
       " 'savez',\n",
       " 'savez_compressed',\n",
       " 'sctype2char',\n",
       " 'sctypeDict',\n",
       " 'sctypes',\n",
       " 'searchsorted',\n",
       " 'select',\n",
       " 'set_numeric_ops',\n",
       " 'set_printoptions',\n",
       " 'set_string_function',\n",
       " 'setbufsize',\n",
       " 'setdiff1d',\n",
       " 'seterr',\n",
       " 'seterrcall',\n",
       " 'seterrobj',\n",
       " 'setxor1d',\n",
       " 'shape',\n",
       " 'shares_memory',\n",
       " 'short',\n",
       " 'show_config',\n",
       " 'sign',\n",
       " 'signbit',\n",
       " 'signedinteger',\n",
       " 'sin',\n",
       " 'sinc',\n",
       " 'single',\n",
       " 'singlecomplex',\n",
       " 'sinh',\n",
       " 'size',\n",
       " 'sometrue',\n",
       " 'sort',\n",
       " 'sort_complex',\n",
       " 'source',\n",
       " 'spacing',\n",
       " 'split',\n",
       " 'sqrt',\n",
       " 'square',\n",
       " 'squeeze',\n",
       " 'stack',\n",
       " 'std',\n",
       " 'str0',\n",
       " 'str_',\n",
       " 'string_',\n",
       " 'subtract',\n",
       " 'sum',\n",
       " 'swapaxes',\n",
       " 'sys',\n",
       " 'take',\n",
       " 'take_along_axis',\n",
       " 'tan',\n",
       " 'tanh',\n",
       " 'tensordot',\n",
       " 'test',\n",
       " 'testing',\n",
       " 'tile',\n",
       " 'timedelta64',\n",
       " 'trace',\n",
       " 'tracemalloc_domain',\n",
       " 'transpose',\n",
       " 'trapz',\n",
       " 'tri',\n",
       " 'tril',\n",
       " 'tril_indices',\n",
       " 'tril_indices_from',\n",
       " 'trim_zeros',\n",
       " 'triu',\n",
       " 'triu_indices',\n",
       " 'triu_indices_from',\n",
       " 'true_divide',\n",
       " 'trunc',\n",
       " 'typeDict',\n",
       " 'typecodes',\n",
       " 'typename',\n",
       " 'ubyte',\n",
       " 'ufunc',\n",
       " 'uint',\n",
       " 'uint0',\n",
       " 'uint16',\n",
       " 'uint32',\n",
       " 'uint64',\n",
       " 'uint8',\n",
       " 'uintc',\n",
       " 'uintp',\n",
       " 'ulonglong',\n",
       " 'unicode_',\n",
       " 'union1d',\n",
       " 'unique',\n",
       " 'unpackbits',\n",
       " 'unravel_index',\n",
       " 'unsignedinteger',\n",
       " 'unwrap',\n",
       " 'use_hugepage',\n",
       " 'ushort',\n",
       " 'vander',\n",
       " 'var',\n",
       " 'vdot',\n",
       " 'vectorize',\n",
       " 'version',\n",
       " 'void',\n",
       " 'void0',\n",
       " 'vsplit',\n",
       " 'vstack',\n",
       " 'warnings',\n",
       " 'where',\n",
       " 'who',\n",
       " 'zeros',\n",
       " 'zeros_like']"
      ]
     },
     "execution_count": 2,
     "metadata": {},
     "output_type": "execute_result"
    }
   ],
   "source": [
    "import numpy as np\n",
    "dir(np) # directory of numpy"
   ]
  },
  {
   "cell_type": "code",
   "execution_count": 7,
   "id": "2b347e62",
   "metadata": {},
   "outputs": [
    {
     "data": {
      "text/plain": [
       "'1.20.1'"
      ]
     },
     "execution_count": 7,
     "metadata": {},
     "output_type": "execute_result"
    }
   ],
   "source": [
    "np.__version__ # to get the version of numpy"
   ]
  },
  {
   "cell_type": "markdown",
   "id": "1562dab7",
   "metadata": {},
   "source": [
    "#### Numpy\n",
    "- Numpy stands for Numerical Python\n",
    "- which is used to deal with array type of data,Scitific computation"
   ]
  },
  {
   "cell_type": "markdown",
   "id": "ff2bc3bd",
   "metadata": {},
   "source": [
    "## Array Creation()\n",
    "- array is  the sub-module in numpy module\n",
    "- Syntax:\n",
    "    - np.array(iterables)"
   ]
  },
  {
   "cell_type": "code",
   "execution_count": 12,
   "id": "4bac8ec9",
   "metadata": {},
   "outputs": [
    {
     "name": "stdout",
     "output_type": "stream",
     "text": [
      "Matrix with 3x3 order: \n",
      " [[1 2 3]\n",
      " [4 5 6]\n",
      " [7 8 9]]\n"
     ]
    }
   ],
   "source": [
    "a = np.array([[1,2,3],[4,5,6],[7,8,9]]) # array allows only homogenous data-structure\n",
    "print(\"Matrix with 3x3 order: \\n\",a)"
   ]
  },
  {
   "cell_type": "code",
   "execution_count": 15,
   "id": "47e9241b",
   "metadata": {},
   "outputs": [
    {
     "name": "stdout",
     "output_type": "stream",
     "text": [
      "matrix:  [1 2 3]\n"
     ]
    }
   ],
   "source": [
    "# tuple into array\n",
    "t = np.array((1,2,3))\n",
    "print(\"matrix: \",t)"
   ]
  },
  {
   "cell_type": "code",
   "execution_count": 21,
   "id": "7c32af1a",
   "metadata": {},
   "outputs": [
    {
     "name": "stdout",
     "output_type": "stream",
     "text": [
      "matrix of integers: \n",
      " [[1 3]\n",
      " [5 7]\n",
      " [4 6]]\n",
      "matrix of float values: \n",
      " [[1.2 3.4]\n",
      " [5.6 7.8]\n",
      " [4.5 6.9]]\n",
      "matrix of string values: \n",
      " [['1.2' '3.4']\n",
      " ['5.6' '7.8']\n",
      " ['4.5' '6.9']]\n"
     ]
    }
   ],
   "source": [
    "# declaration\n",
    "ar = np.array([[1.2,3.4],[5.6,7.8],[4.5,6.9]],dtype = \"int\")\n",
    "ar1 = np.array([[1.2,3.4],[5.6,7.8],[4.5,6.9]],dtype = \"float\")\n",
    "ar2 = np.array([[1.2,3.4],[5.6,7.8],[4.5,6.9]],dtype = 'str')\n",
    "print(\"matrix of integers: \\n\",ar)\n",
    "print(\"matrix of float values: \\n\",ar1)\n",
    "print(\"matrix of string values: \\n\",ar2)"
   ]
  },
  {
   "cell_type": "code",
   "execution_count": 25,
   "id": "8b8a0cf9",
   "metadata": {
    "scrolled": true
   },
   "outputs": [
    {
     "name": "stdout",
     "output_type": "stream",
     "text": [
      "result:  ['2' '5' '8']\n"
     ]
    }
   ],
   "source": [
    "print(\"result: \",np.array(res, dtype = 'str'))"
   ]
  },
  {
   "cell_type": "code",
   "execution_count": 29,
   "id": "1ee83e08",
   "metadata": {},
   "outputs": [
    {
     "name": "stdout",
     "output_type": "stream",
     "text": [
      "range values:  [ 0  1  2  3  4  5  6  7  8  9 10 11 12 13 14 15 16 17 18 19]\n",
      "range values with start and end:  [ 0  1  2  3  4  5  6  7  8  9 10 11 12 13 14 15 16 17 18 19]\n",
      "range values with start and end and step:  [ 0  2  4  6  8 10 12 14 16 18]\n",
      "dimension of r1:  1\n"
     ]
    }
   ],
   "source": [
    "# array\n",
    "r = np.array(range(20))\n",
    "r1 = np.array(range(0,20))\n",
    "r2 = np.array(range(0,20,2))\n",
    "print(\"range values: \",r)\n",
    "print(\"range values with start and end: \",r1)\n",
    "print(\"range values with start and end and step: \",r2)\n",
    "\n",
    "# dimensions of array\n",
    "print(\"dimension of r1: \",r1.ndim)"
   ]
  },
  {
   "cell_type": "code",
   "execution_count": 35,
   "id": "cadaf002",
   "metadata": {},
   "outputs": [
    {
     "name": "stdout",
     "output_type": "stream",
     "text": [
      "Matrix: \n",
      " [[1 3]\n",
      " [5 7]\n",
      " [4 6]]\n",
      "dimension of array:  2 \n",
      "\n",
      "size of matrix:  6\n",
      "shape of the mtrix:  (3, 2)\n",
      "data_type of the matrix:  int32\n",
      "size of each item:  4\n"
     ]
    }
   ],
   "source": [
    "# Multi dimension array\n",
    "s = np.array([[1.2,3.4],[5.6,7.8],[4.5,6.9]],dtype = \"int\")\n",
    "print(\"Matrix: \\n\",s)\n",
    "print(\"dimension of array: \",s.ndim,\"\\n\")\n",
    "\n",
    "# size attribute represents the totaL NO.OF ELEMNETS\n",
    "print(\"size of matrix: \",s.size)\n",
    "print(\"shape of the mtrix: \",s.shape)\n",
    "print(\"data_type of the matrix: \",s.dtype)\n",
    "print(\"size of each item: \",s.itemsize) # size of  each item"
   ]
  },
  {
   "cell_type": "code",
   "execution_count": 38,
   "id": "13c36af1",
   "metadata": {},
   "outputs": [
    {
     "name": "stdout",
     "output_type": "stream",
     "text": [
      "32 dimensional array:  [[[[[[[[[[[[[[[[[[[[[[[[[[[[[[[[1 2 3 4]]]]]]]]]]]]]]]]]]]]]]]]]]]]]]]]\n"
     ]
    }
   ],
   "source": [
    "# 32 dimensional array using numpy\n",
    "dd = np.array([1,2,3,4],ndmin = 32)\n",
    "print(\"32 dimensional array: \",dd)\n",
    "\n",
    "# dd = np.array([1,2,3,4],ndmin = 33)"
   ]
  },
  {
   "cell_type": "code",
   "execution_count": 45,
   "id": "2b86ce2d",
   "metadata": {},
   "outputs": [
    {
     "name": "stdout",
     "output_type": "stream",
     "text": [
      "identity matrix: \n",
      " [[1. 0. 0. 0. 0.]\n",
      " [0. 1. 0. 0. 0.]\n",
      " [0. 0. 1. 0. 0.]\n",
      " [0. 0. 0. 1. 0.]\n",
      " [0. 0. 0. 0. 1.]]\n",
      "\n",
      " zero matrix: \n",
      " [[0. 0. 0. 0.]\n",
      " [0. 0. 0. 0.]\n",
      " [0. 0. 0. 0.]]\n"
     ]
    }
   ],
   "source": [
    "# Creating another arrays\n",
    "\n",
    "i = np.eye(5) # identity matrix\n",
    "print(\"identity matrix: \\n\",i)\n",
    "\n",
    "z = np.zeros((3,4))\n",
    "print(\"\\n zero matrix: \\n\",z)"
   ]
  },
  {
   "cell_type": "code",
   "execution_count": 52,
   "id": "72f09368",
   "metadata": {},
   "outputs": [
    {
     "name": "stdout",
     "output_type": "stream",
     "text": [
      "Matrix A: \n",
      "\n",
      " [[1 2 3]\n",
      " [4 5 6]\n",
      " [7 8 9]]\n",
      "Matrix B: \n",
      "\n",
      " [[11 12 13]\n",
      " [14 15 16]\n",
      " [17 18 19]]\n",
      "\n",
      "Matrix addition: \n",
      "\n",
      " [[12 14 16]\n",
      " [18 20 22]\n",
      " [24 26 28]]\n",
      "\n",
      "Matrix subraction: \n",
      "\n",
      " [[-10 -10 -10]\n",
      " [-10 -10 -10]\n",
      " [-10 -10 -10]]\n",
      "\n",
      "Matrix multiplication: \n",
      "\n",
      " [[ 11  24  39]\n",
      " [ 56  75  96]\n",
      " [119 144 171]]\n",
      "\n",
      "Matrix division: \n",
      "\n",
      " [[0.09090909 0.16666667 0.23076923]\n",
      " [0.28571429 0.33333333 0.375     ]\n",
      " [0.41176471 0.44444444 0.47368421]]\n"
     ]
    }
   ],
   "source": [
    "# matrix addition,subraction,multipication\n",
    "\n",
    "a = np.array([[1,2,3],[4,5,6],[7,8,9]])\n",
    "b = np.array([[11,12,13],[14,15,16],[17,18,19]])\n",
    "print(\"Matrix A: \\n\\n\",a)\n",
    "print(\"Matrix B: \\n\\n\",b)\n",
    "print(\"\\nMatrix addition: \\n\\n\",a + b)\n",
    "print(\"\\nMatrix subraction: \\n\\n\",a - b)\n",
    "print(\"\\nMatrix multiplication: \\n\\n\",a * b)\n",
    "print(\"\\nMatrix division: \\n\\n\",a / b)"
   ]
  },
  {
   "cell_type": "code",
   "execution_count": 56,
   "id": "6333228b",
   "metadata": {},
   "outputs": [
    {
     "name": "stdout",
     "output_type": "stream",
     "text": [
      "One's matrix: \n",
      " [[1. 1. 1. 1.]\n",
      " [1. 1. 1. 1.]\n",
      " [1. 1. 1. 1.]]\n"
     ]
    }
   ],
   "source": [
    "# Ones matrix\n",
    "tr = np.ones((3,4))\n",
    "print(\"One's matrix: \\n\",tr)"
   ]
  },
  {
   "cell_type": "code",
   "execution_count": 70,
   "id": "047e266e",
   "metadata": {},
   "outputs": [
    {
     "name": "stdout",
     "output_type": "stream",
     "text": [
      "mtrix with all elemnts 2: \n",
      " [['mounav' 'mounav' 'mounav']\n",
      " ['mounav' 'mounav' 'mounav']\n",
      " ['mounav' 'mounav' 'mounav']]\n"
     ]
    }
   ],
   "source": [
    "# matrix size, and element\n",
    "f = np.full((3,3),'mounav') # 1st parameter is matrix order and 2nd parameter is element\n",
    "print(\"mtrix with all elemnts 2: \\n\",f)"
   ]
  },
  {
   "cell_type": "code",
   "execution_count": 71,
   "id": "6dedafa1",
   "metadata": {},
   "outputs": [
    {
     "name": "stdout",
     "output_type": "stream",
     "text": [
      "modified matrix: \n",
      " [['5' '5' '5']\n",
      " ['5' '5' '5']\n",
      " ['5' '5' '5']]\n"
     ]
    }
   ],
   "source": [
    "# fill function\n",
    "f.fill(5) # modifing the existing matrix\n",
    "print(\"modified matrix: \\n\",f)"
   ]
  },
  {
   "cell_type": "code",
   "execution_count": 73,
   "id": "fd00fcba",
   "metadata": {},
   "outputs": [
    {
     "name": "stdout",
     "output_type": "stream",
     "text": [
      "[ 10.          25.83333333  41.66666667  57.5         73.33333333\n",
      "  89.16666667 105.         120.83333333 136.66666667 152.5\n",
      " 168.33333333 184.16666667 200.        ]\n"
     ]
    },
    {
     "data": {
      "text/plain": [
       "13"
      ]
     },
     "execution_count": 73,
     "metadata": {},
     "output_type": "execute_result"
    }
   ],
   "source": [
    "# using linespace ===> linear space\n",
    "\n",
    "ln = np.linspace(10,200,13)\n",
    "print(ln)\n",
    "len(ln)"
   ]
  },
  {
   "cell_type": "markdown",
   "id": "9807d60c",
   "metadata": {},
   "source": [
    "#### Creating array with arange()"
   ]
  },
  {
   "cell_type": "code",
   "execution_count": 91,
   "id": "47fc6934",
   "metadata": {},
   "outputs": [
    {
     "name": "stdout",
     "output_type": "stream",
     "text": [
      "array_1: \n",
      " [ 0  1  2  3  4  5  6  7  8  9 10 11 12 13 14 15 16 17 18 19 20 21 22 23\n",
      " 24]\n",
      "array_2: \n",
      " [20 22 24 26 28 30 32 34 36 38 40 42 44 46 48 50 52 54 56 58 60 62 64 66\n",
      " 68 70 72 74 76 78 80 82 84 86 88 90 92 94 96 98]\n",
      "array_3: \n",
      " [100  95  90  85  80  75  70  65  60  55  50]\n"
     ]
    }
   ],
   "source": [
    "ar = np.arange(25)\n",
    "print(\"array_1: \\n\",ar)\n",
    "ar1 = np.arange(20,100,2)\n",
    "print(\"array_2: \\n\",ar1) # even values\n",
    "print(\"array_3: \\n\",np.arange(100,45,-5)) # reverse order"
   ]
  },
  {
   "cell_type": "code",
   "execution_count": 97,
   "id": "164bc3b8",
   "metadata": {},
   "outputs": [
    {
     "name": "stdout",
     "output_type": "stream",
     "text": [
      "array length:  40\n",
      "matrix: \n",
      " [[20 22 24 26 28 30 32 34]\n",
      " [36 38 40 42 44 46 48 50]\n",
      " [52 54 56 58 60 62 64 66]\n",
      " [68 70 72 74 76 78 80 82]\n",
      " [84 86 88 90 92 94 96 98]]\n"
     ]
    }
   ],
   "source": [
    "# coverting existing array int 2d array\n",
    "# using reshape()\n",
    "print(\"array length: \",len(ar1))\n",
    "y = ar1.reshape(5,8)\n",
    "print(\"matrix: \\n\",y)"
   ]
  },
  {
   "cell_type": "code",
   "execution_count": 98,
   "id": "69223bbc",
   "metadata": {},
   "outputs": [
    {
     "name": "stdout",
     "output_type": "stream",
     "text": [
      "array length:  40\n",
      "matrix: \n",
      " [[20 22 24 26]\n",
      " [28 30 32 34]\n",
      " [36 38 40 42]\n",
      " [44 46 48 50]\n",
      " [52 54 56 58]\n",
      " [60 62 64 66]\n",
      " [68 70 72 74]\n",
      " [76 78 80 82]\n",
      " [84 86 88 90]\n",
      " [92 94 96 98]]\n"
     ]
    }
   ],
   "source": [
    "# coverting existing array int 2d array\n",
    "# using reshape()\n",
    "print(\"array length: \",len(ar1)) # it has 40 elements\n",
    "r = ar1.reshape(10,4) # 10 x 4 = 40\n",
    "print(\"matrix: \\n\",r)"
   ]
  },
  {
   "cell_type": "code",
   "execution_count": 99,
   "id": "f07b280a",
   "metadata": {},
   "outputs": [
    {
     "name": "stdout",
     "output_type": "stream",
     "text": [
      "r2 matrix:  [[100  96  92  88  84]\n",
      " [ 80  76  72  68  64]\n",
      " [ 60  56  52  48  44]\n",
      " [ 40  36  32  28  24]]\n"
     ]
    }
   ],
   "source": [
    "r2 = np.arange(100,20,-4).reshape(4,5)\n",
    "print(\"r2 matrix: \",r2)"
   ]
  },
  {
   "cell_type": "markdown",
   "id": "388ead23",
   "metadata": {},
   "source": [
    "### random()\n",
    "- used to generate random integer in a range\n",
    "- random.randint()"
   ]
  },
  {
   "cell_type": "code",
   "execution_count": 4,
   "id": "47c0dd8a",
   "metadata": {},
   "outputs": [
    {
     "name": "stdout",
     "output_type": "stream",
     "text": [
      "random number:  8\n"
     ]
    }
   ],
   "source": [
    "rn = np.random.randint(10) # it will generate only single value in between 0 & 10\n",
    "print(\"random number: \",rn)"
   ]
  },
  {
   "cell_type": "code",
   "execution_count": 5,
   "id": "7a630633",
   "metadata": {},
   "outputs": [
    {
     "name": "stdout",
     "output_type": "stream",
     "text": [
      "randon number: \n",
      " 191\n"
     ]
    }
   ],
   "source": [
    "rd = np.random.randint(100,200) # it will genetates in the range\n",
    "print(\"randon number: \\n\",rd)"
   ]
  },
  {
   "cell_type": "code",
   "execution_count": 12,
   "id": "02b18878",
   "metadata": {},
   "outputs": [
    {
     "name": "stdout",
     "output_type": "stream",
     "text": [
      "multiple values:  [ 2 11 15  7 12  5 16  5]\n"
     ]
    }
   ],
   "source": [
    "# multiple random values\n",
    "\n",
    "tu = np.random.randint(2,20,8) # 2 is lower value, 20 is upper value , 8 is generates 8 integers\n",
    "print(\"multiple values: \",tu)"
   ]
  },
  {
   "cell_type": "code",
   "execution_count": 17,
   "id": "751829ff",
   "metadata": {},
   "outputs": [
    {
     "name": "stdout",
     "output_type": "stream",
     "text": [
      "random matrix: \n",
      " [[0.8987006  0.05975729 0.14806794]\n",
      " [0.46722078 0.38139724 0.02626758]\n",
      " [0.07885834 0.85308729 0.52441256]]\n",
      "\n",
      "random matrix_1: \n",
      " [[0.4491428  0.5705233  0.80710538 0.24098525]\n",
      " [0.79921823 0.27636072 0.4634359  0.59671848]\n",
      " [0.10241039 0.22735069 0.57890322 0.91659665]]\n"
     ]
    }
   ],
   "source": [
    "d = np.random.random((3,3)) # random() will generates the numbers b/n 0 & 1 of size 3x3\n",
    "d1 = np.random.rand(3,4) # not nesscessary to pass  order in tuple \n",
    "print(\"random matrix: \\n\",d)\n",
    "print(\"\\nrandom matrix_1: \\n\",d1)"
   ]
  },
  {
   "cell_type": "markdown",
   "id": "9779ce78",
   "metadata": {},
   "source": [
    "#### Accessing the Array elements\n",
    "- using index\n",
    "- index is of 3 types\n",
    "    - positive indexing: starts from left to right\n",
    "    - negative indexing: starts from left to right\n",
    "    - Fancy indexing: Condition based index"
   ]
  },
  {
   "cell_type": "code",
   "execution_count": 18,
   "id": "7b50d6ad",
   "metadata": {},
   "outputs": [
    {
     "name": "stdout",
     "output_type": "stream",
     "text": [
      "Matrix: \n",
      " [[156 171 130  86 177]\n",
      " [196  92  64 132 180]\n",
      " [166 102 118 131 107]\n",
      " [165 122 198 124 136]\n",
      " [ 84 171 150  91 194]]\n"
     ]
    }
   ],
   "source": [
    "e = np.random.randint(50,200,25).reshape(5,-1) # yu can give any -ve numbers\n",
    "print(\"Matrix: \\n\",e)"
   ]
  },
  {
   "cell_type": "code",
   "execution_count": 22,
   "id": "8d306b12",
   "metadata": {},
   "outputs": [
    {
     "name": "stdout",
     "output_type": "stream",
     "text": [
      "arange matrix: \n",
      " [[50 52 54 56 58]\n",
      " [60 62 64 66 68]\n",
      " [70 72 74 76 78]\n",
      " [80 82 84 86 88]\n",
      " [90 92 94 96 98]]\n"
     ]
    }
   ],
   "source": [
    "arn = np.arange(50,100,2).reshape(-7,5)\n",
    "print(\"arange matrix: \\n\",arn)"
   ]
  },
  {
   "cell_type": "code",
   "execution_count": 24,
   "id": "e335cde0",
   "metadata": {},
   "outputs": [
    {
     "name": "stdout",
     "output_type": "stream",
     "text": [
      "row3:  [80 82 84 86 88]\n"
     ]
    }
   ],
   "source": [
    "# accessing array elements\n",
    "print(\"row3: \",arn[3])"
   ]
  },
  {
   "cell_type": "code",
   "execution_count": null,
   "id": "89fb6085",
   "metadata": {},
   "outputs": [],
   "source": []
  }
 ],
 "metadata": {
  "kernelspec": {
   "display_name": "Python 3",
   "language": "python",
   "name": "python3"
  },
  "language_info": {
   "codemirror_mode": {
    "name": "ipython",
    "version": 3
   },
   "file_extension": ".py",
   "mimetype": "text/x-python",
   "name": "python",
   "nbconvert_exporter": "python",
   "pygments_lexer": "ipython3",
   "version": "3.8.8"
  }
 },
 "nbformat": 4,
 "nbformat_minor": 5
}
